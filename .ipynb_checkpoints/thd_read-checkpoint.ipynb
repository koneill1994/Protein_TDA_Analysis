{
 "cells": [
  {
   "cell_type": "code",
   "execution_count": 1,
   "metadata": {},
   "outputs": [],
   "source": [
    "# this is the package which reads in thd information \n",
    "# and gives you the rows that are corresponded to by a given node\n",
    "\n",
    "import os\n",
    "import pandas\n",
    "import numpy as np\n",
    "import matplotlib.pyplot as plt\n",
    "import scipy\n",
    "import math\n",
    "import json\n",
    "import time\n"
   ]
  },
  {
   "cell_type": "code",
   "execution_count": 2,
   "metadata": {},
   "outputs": [],
   "source": [
    "def fix_chip_start_stop(df, step_size, chip_size):\n",
    "\n",
    "    ch=[int(x.split(\"_\")[-1]) for x in df['chip_id']]\n",
    "\n",
    "    start=[c*step_size for c in ch]\n",
    "    stop=[chip_size+c*step_size for c in ch]\n",
    "\n",
    "    df['start']=start\n",
    "    df['stop']=stop\n",
    "    \n",
    "    return df"
   ]
  },
  {
   "cell_type": "code",
   "execution_count": 3,
   "metadata": {},
   "outputs": [],
   "source": [
    "def get_rows_from_segmentation(seg_file,dataset):\n",
    "    with open(seg_file) as jsonf:\n",
    "        a=json.load(jsonf)\n",
    "        df=dataset.iloc[[int(m) for m in a['rowList']],:]\n",
    "        return df\n"
   ]
  }
 ],
 "metadata": {
  "kernelspec": {
   "display_name": "Python 3",
   "language": "python",
   "name": "python3"
  },
  "language_info": {
   "codemirror_mode": {
    "name": "ipython",
    "version": 3
   },
   "file_extension": ".py",
   "mimetype": "text/x-python",
   "name": "python",
   "nbconvert_exporter": "python",
   "pygments_lexer": "ipython3",
   "version": "3.6.8"
  }
 },
 "nbformat": 4,
 "nbformat_minor": 2
}
