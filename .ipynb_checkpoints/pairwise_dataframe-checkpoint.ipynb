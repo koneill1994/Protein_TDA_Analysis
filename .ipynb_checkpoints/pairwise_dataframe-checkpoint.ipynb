{
 "cells": [
  {
   "cell_type": "code",
   "execution_count": 1,
   "metadata": {},
   "outputs": [],
   "source": [
    "import pandas\n",
    "import numpy as np\n",
    "\n",
    "# raymer's idea\n",
    "\n",
    "# each row is a pairwise comparison between 2 amino acids\n",
    "# \n",
    "# 2d features will be a single column\n",
    "# 1d features will be one column each per amino acid\n",
    "# i.e. psisolv for AA_1, psisolv for AA_2\n",
    "\n",
    "\n",
    "pdb_list, length_dict, input_features = np.load(\"datasets/full-input-features.npy\",allow_pickle=True)\n",
    "pdb_list_y, distance_maps_cb = np.load(\"datasets/full-distance-maps-cb.npy\",encoding=\"latin1\",allow_pickle=True)\n"
   ]
  },
  {
   "cell_type": "code",
   "execution_count": null,
   "metadata": {},
   "outputs": [],
   "source": [
    "pairlist=[]\n",
    "for full_pdb_id in full_pdb_list[0:5]:\n",
    "    aa_length = length_dict[full_pdb_id]\n",
    "    feats = input_features[full_pdb_id]\n",
    "    # 1D Features\n",
    "    psipred_helix = feats[0].astype(np.float)\n",
    "    psipred_sheet = feats[1].astype(np.float)\n",
    "    psipred_coil = feats[2].astype(np.float)\n",
    "    psisolv = feats[3].astype(np.float)\n",
    "    shannon = feats[4].astype(np.float)\n",
    "    ccmpred = feats[5].astype(np.float)\n",
    "    # 2D Features\n",
    "    freecontact = feats[6].astype(np.float)\n",
    "    pstat = feats[7].astype(np.float)\n",
    "    cb_dist = distance_maps_cb[full_pdb_id].astype(np.float)\n",
    "    # Reshape 2D features into 2D arrays (from 1D)\n",
    "    ccmpred.shape = (aa_length, aa_length)\n",
    "    cb_dist.shape = (aa_length, aa_length)\n",
    "    freecontact.shape = (aa_length, aa_length)\n",
    "    pstat.shape = (aa_length, aa_length)\n",
    "    \n",
    "    # O(nlog(n)) run time \n",
    "    for i in range(0, aa_length):\n",
    "        for j in range(i + 1, aa_length):\n",
    "            feat_dict = {}\n",
    "            feat_dict['psipred_helix_1'] = psipred_helix[i]\n",
    "            feat_dict['psipred_helix_2'] = psipred_helix[j]\n",
    "            feat_dict['psipred_sheet_1'] = psipred_sheet[i]\n",
    "            feat_dict['psipred_sheet_1'] = psipred_sheet[j]\n",
    "            feat_dict['psipred_coil_1'] = psipred_coil[i]\n",
    "            feat_dict['psipred_coil_2'] = psipred_coil[j]\n",
    "            feat_dict['psisolv_1'] = psisolv[i]\n",
    "            feat_dict['psisolv_2'] = psisolv[j]\n",
    "            feat_dict['shannon_1'] = shannon[i]\n",
    "            feat_dict['shannon_2'] = shannon[j]\n",
    "            feat_dict['ccmpred'] = ccmpred[i, j]\n",
    "            feat_dict['freecontact'] = freecontact[i, j]\n",
    "            feat_dict['pstat'] = pstat[i, j]\n",
    "            feat_dict['cb_dist'] = cb_dist[i, j]\n",
    "            pairlist.append(feat_dict)\n",
    "df = pandas.DataFrame(pairlist)"
   ]
  },
  {
   "cell_type": "code",
   "execution_count": null,
   "metadata": {},
   "outputs": [],
   "source": [
    "df.to_csv(\"datasets/protein_pairwise_full.csv\")"
   ]
  }
 ],
 "metadata": {
  "kernelspec": {
   "display_name": "Python 3",
   "language": "python",
   "name": "python3"
  },
  "language_info": {
   "codemirror_mode": {
    "name": "ipython",
    "version": 3
   },
   "file_extension": ".py",
   "mimetype": "text/x-python",
   "name": "python",
   "nbconvert_exporter": "python",
   "pygments_lexer": "ipython3",
   "version": "3.6.8"
  }
 },
 "nbformat": 4,
 "nbformat_minor": 2
}
