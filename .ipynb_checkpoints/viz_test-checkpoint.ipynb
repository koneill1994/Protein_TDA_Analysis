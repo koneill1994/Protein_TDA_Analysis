{
 "cells": [
  {
   "cell_type": "code",
   "execution_count": 1,
   "metadata": {
    "scrolled": true
   },
   "outputs": [
    {
     "name": "stdout",
     "output_type": "stream",
     "text": [
      "Requirement already satisfied: import_ipynb in d:\\programs\\lib\\site-packages (0.1.3)\n",
      "importing Jupyter notebook from thd_read.ipynb\n"
     ]
    }
   ],
   "source": [
    "! pip install import_ipynb\n",
    "import import_ipynb\n",
    "import thd_read as tr\n",
    "\n",
    "import os\n",
    "import pandas\n",
    "import numpy as np\n",
    "import matplotlib.pyplot as plt\n",
    "import scipy\n",
    "import math\n",
    "import json\n",
    "import time"
   ]
  },
  {
   "cell_type": "code",
   "execution_count": 2,
   "metadata": {},
   "outputs": [],
   "source": [
    "# dataset_25=pandas.read_csv(\"datasets/protein_all_25_12_no_na.csv\")\n",
    "# dataset_10=pandas.read_csv(\"datasets/protein_all_10_5_no_na.csv\")\n",
    "dataset_5=pandas.read_csv(\"datasets/protein_all_5_3_no_na.csv\")\n",
    "\n",
    "# tr.fix_chip_start_stop(dataset_25,12,25)\n",
    "# tr.fix_chip_start_stop(dataset_10,5,10)\n",
    "tr.fix_chip_start_stop(dataset_5,3,5)\n",
    "\n",
    "\n",
    "pdb_list, length_dict, input_features = np.load(\"datasets/full-input-features.npy\",allow_pickle=True)\n",
    "pdb_list_y, distance_maps_cb = np.load(\"datasets/full-distance-maps-cb.npy\",encoding=\"latin1\",allow_pickle=True)\n",
    "\n",
    "thd_dir=\"C:/Users/Kevin/Documents/TDA/afrl/Segmentations\"\n"
   ]
  },
  {
   "cell_type": "code",
   "execution_count": 3,
   "metadata": {},
   "outputs": [],
   "source": [
    "\n",
    "df=tr.get_rows_from_segmentation(thd_dir+\"/Cor_distance_AllofSourceData_NHLOne_NHLTwo/Cor_distance_AllofSourceData_NHLOne_NHLTwo 15.1.15.json\",\n",
    "                             dataset_5)"
   ]
  },
  {
   "cell_type": "code",
   "execution_count": 4,
   "metadata": {
    "scrolled": true
   },
   "outputs": [
    {
     "data": {
      "image/png": "[encoded data removed]",
      "text/plain": [
       "<Figure size 432x288 with 1 Axes>"
      ]
     },
     "metadata": {
      "needs_background": "light"
     },
     "output_type": "display_data"
    }
   ],
   "source": [
    "tr.draw_avg_dist_densityplot2(df,\"test\",20)"
   ]
  },
  {
   "cell_type": "code",
   "execution_count": 5,
   "metadata": {
    "scrolled": true
   },
   "outputs": [
    {
     "data": {
      "image/png": "[encoded data removed]",
      "text/plain": [
       "<Figure size 432x288 with 1 Axes>"
      ]
     },
     "metadata": {
      "needs_background": "light"
     },
     "output_type": "display_data"
    }
   ],
   "source": [
    "tr.draw_ramachandran_density(df)\n"
   ]
  },
  {
   "cell_type": "code",
   "execution_count": 7,
   "metadata": {},
   "outputs": [
    {
     "ename": "NameError",
     "evalue": "name 'apply_to_thd_segs' is not defined",
     "output_type": "error",
     "traceback": [
      "\u001b[1;31m---------------------------------------------------------------------------\u001b[0m",
      "\u001b[1;31mNameError\u001b[0m                                 Traceback (most recent call last)",
      "\u001b[1;32m<ipython-input-7-e26c709c5820>\u001b[0m in \u001b[0;36m<module>\u001b[1;34m\u001b[0m\n\u001b[0;32m      1\u001b[0m \u001b[0mfolder\u001b[0m\u001b[1;33m=\u001b[0m\u001b[1;34m'Cor_distance_AllofSourceData_NHLOne_NHLTwo'\u001b[0m\u001b[1;33m\u001b[0m\u001b[1;33m\u001b[0m\u001b[0m\n\u001b[0;32m      2\u001b[0m \u001b[1;33m\u001b[0m\u001b[0m\n\u001b[1;32m----> 3\u001b[1;33m \u001b[0mapply_to_thd_segs\u001b[0m\u001b[1;33m(\u001b[0m\u001b[0mthd_dir\u001b[0m\u001b[1;33m,\u001b[0m\u001b[0mfolder\u001b[0m\u001b[1;33m,\u001b[0m\u001b[0mdataset_5\u001b[0m\u001b[1;33m,\u001b[0m\u001b[0mtr\u001b[0m\u001b[1;33m.\u001b[0m\u001b[0mdraw_ramachandran_plot\u001b[0m\u001b[1;33m)\u001b[0m\u001b[1;33m\u001b[0m\u001b[1;33m\u001b[0m\u001b[0m\n\u001b[0m",
      "\u001b[1;31mNameError\u001b[0m: name 'apply_to_thd_segs' is not defined"
     ]
    }
   ],
   "source": [
    "folder='Cor_distance_AllofSourceData_NHLOne_NHLTwo'\n",
    "\n",
    "tr.apply_to_thd_segs(thd_dir,folder,dataset_5,tr.draw_ramachandran_plot)"
   ]
  }
 ],
 "metadata": {
  "kernelspec": {
   "display_name": "Python 3",
   "language": "python",
   "name": "python3"
  },
  "language_info": {
   "codemirror_mode": {
    "name": "ipython",
    "version": 3
   },
   "file_extension": ".py",
   "mimetype": "text/x-python",
   "name": "python",
   "nbconvert_exporter": "python",
   "pygments_lexer": "ipython3",
   "version": "3.6.8"
  }
 },
 "nbformat": 4,
 "nbformat_minor": 2
}
