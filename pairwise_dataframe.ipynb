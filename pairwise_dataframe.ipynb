{
 "cells": [
  {
   "cell_type": "code",
   "execution_count": 1,
   "metadata": {},
   "outputs": [],
   "source": [
    "import pandas\n",
    "import numpy as np\n",
    "\n",
    "# raymer's idea\n",
    "\n",
    "# each row is a pairwise comparison between 2 amino acids\n",
    "# \n",
    "# 2d features will be a single column\n",
    "# 1d features will be one column each per amino acid\n",
    "# i.e. psisolv for AA_1, psisolv for AA_2\n",
    "\n",
    "\n",
    "pdb_list, length_dict, input_features = np.load(\"datasets/full-input-features.npy\",allow_pickle=True)\n",
    "pdb_list_y, distance_maps_cb = np.load(\"datasets/full-distance-maps-cb.npy\",encoding=\"latin1\",allow_pickle=True)\n"
   ]
  },
  {
   "cell_type": "code",
   "execution_count": null,
   "metadata": {},
   "outputs": [],
   "source": [
    "\n",
    "feat_col_names=[\"psipred_helix\",\"psipred_sheet\",\"psipred_coil\",\"psisolv\",\"shannon\"]\n",
    "\n",
    "cols=[\"protein_id\",\"coords\",\"sequence_distance\"]\n",
    "for aa in (\"1\",\"2\"):\n",
    "    for feature in feat_col_names:\n",
    "        cols+=[feature+\"_aa_\"+aa]\n",
    "cols+=[\"ccmpred\",\"freecontact\",\"pstat\"]\n",
    "cols+=[\"cb_dist\"]\n",
    "\n",
    "pairlist=[]\n",
    "\n",
    "for protein_id in pdb_list:\n",
    "\n",
    "    feat=input_features[protein_id]\n",
    "    aa_length=length_dict[protein_id]\n",
    "\n",
    "    cb_dist=distance_maps_cb[protein_id].astype(np.float)\n",
    "    cb_dist.shape=(aa_length,aa_length)\n",
    "\n",
    "\n",
    "    ccmpred=feat[5].astype(np.float)\n",
    "    ccmpred.shape=(aa_length,aa_length)\n",
    "\n",
    "    freecontact=feat[6].astype(np.float)\n",
    "    freecontact.shape=(aa_length,aa_length)\n",
    "\n",
    "    pstat=feat[7].astype(np.float)\n",
    "    pstat.shape=(aa_length,aa_length)\n",
    "\n",
    "    for (y,x) in [(y,x) for y in range(0,aa_length) for x in range(y+1,aa_length)]:\n",
    "\n",
    "        row=[]\n",
    "        # protein\n",
    "        row.append(protein_id)\n",
    "\n",
    "        # coords\n",
    "        row.append((str(y)+\"_\"+str(x)))\n",
    "        \n",
    "        row.append(x-y)\n",
    "\n",
    "        # 1d features\n",
    "        for aa in (y,x):\n",
    "            for feature in feat[0:5]:\n",
    "                row.append(feature[aa].astype(np.float))\n",
    "\n",
    "        # 2d features\n",
    "        row.append(ccmpred[y,x])\n",
    "        row.append(freecontact[y,x])\n",
    "        row.append(pstat[y,x])\n",
    "        \n",
    "        row.append(cb_dist[y,x])\n",
    "\n",
    "        pairlist.append(row)\n",
    "\n",
    "df=pandas.DataFrame(pairlist,columns=cols)"
   ]
  },
  {
   "cell_type": "code",
   "execution_count": null,
   "metadata": {},
   "outputs": [],
   "source": [
    "df.to_csv(\"datasets/protein_pairwise_full.csv\")"
   ]
  }
 ],
 "metadata": {
  "kernelspec": {
   "display_name": "Python 3",
   "language": "python",
   "name": "python3"
  },
  "language_info": {
   "codemirror_mode": {
    "name": "ipython",
    "version": 3
   },
   "file_extension": ".py",
   "mimetype": "text/x-python",
   "name": "python",
   "nbconvert_exporter": "python",
   "pygments_lexer": "ipython3",
   "version": "3.6.8"
  }
 },
 "nbformat": 4,
 "nbformat_minor": 2
}
